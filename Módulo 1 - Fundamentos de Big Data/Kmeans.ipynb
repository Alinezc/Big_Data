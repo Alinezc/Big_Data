{
  "nbformat": 4,
  "nbformat_minor": 0,
  "metadata": {
    "colab": {
      "provenance": []
    },
    "kernelspec": {
      "name": "python3",
      "display_name": "Python 3"
    },
    "language_info": {
      "name": "python"
    }
  },
  "cells": [
    {
      "cell_type": "markdown",
      "source": [
        "## Importar a base de dados e bibliotecas"
      ],
      "metadata": {
        "id": "AC2zlUhmJ1Ig"
      }
    },
    {
      "cell_type": "code",
      "execution_count": null,
      "metadata": {
        "id": "6Ef9TI-7-94F"
      },
      "outputs": [],
      "source": [
        "import pandas as pd # Trabalhar com tabelas e importação dos arquivos utilizados\n",
        "import plotly.express as px # biblioteca para criar gráficos dinâmicos \n",
        "import seaborn as sns # Biblioteca para gráficos \n",
        "import numpy as np #funções matemáticas de alto nível\n",
        "alunos_horas = pd.read_csv('/content/drive/MyDrive/Datasets/XPE/horas_estudo.csv',sep=';')"
      ]
    },
    {
      "cell_type": "markdown",
      "source": [
        "## Realizando agrupamento e Normalização "
      ],
      "metadata": {
        "id": "AhyUN7M9KIdt"
      }
    },
    {
      "cell_type": "code",
      "source": [
        "alunos_horas['horas_estudo'] = alunos_horas['horas_estudo'].str.replace(',','.').astype(float)\n",
        "alunos_horas['nota_avaliacao'] = alunos_horas['nota_avaliacao'].str.replace(',','.').astype(float)"
      ],
      "metadata": {
        "id": "wwJVctJpyqY6"
      },
      "execution_count": null,
      "outputs": []
    },
    {
      "cell_type": "code",
      "source": [
        "alunos_horas.head()"
      ],
      "metadata": {
        "colab": {
          "base_uri": "https://localhost:8080/",
          "height": 206
        },
        "id": "9mthdpwRzZv4",
        "outputId": "fd9214db-4d38-4489-b04f-295b054d8895"
      },
      "execution_count": null,
      "outputs": [
        {
          "output_type": "execute_result",
          "data": {
            "text/plain": [
              "   horas_estudo  nota_avaliacao\n",
              "0         16.07           40.05\n",
              "1         20.41           66.49\n",
              "2         34.29           91.50\n",
              "3         34.10           87.09\n",
              "4         32.34           69.30"
            ],
            "text/html": [
              "\n",
              "  <div id=\"df-f2630a99-c381-4f47-8001-a29d32ca1037\">\n",
              "    <div class=\"colab-df-container\">\n",
              "      <div>\n",
              "<style scoped>\n",
              "    .dataframe tbody tr th:only-of-type {\n",
              "        vertical-align: middle;\n",
              "    }\n",
              "\n",
              "    .dataframe tbody tr th {\n",
              "        vertical-align: top;\n",
              "    }\n",
              "\n",
              "    .dataframe thead th {\n",
              "        text-align: right;\n",
              "    }\n",
              "</style>\n",
              "<table border=\"1\" class=\"dataframe\">\n",
              "  <thead>\n",
              "    <tr style=\"text-align: right;\">\n",
              "      <th></th>\n",
              "      <th>horas_estudo</th>\n",
              "      <th>nota_avaliacao</th>\n",
              "    </tr>\n",
              "  </thead>\n",
              "  <tbody>\n",
              "    <tr>\n",
              "      <th>0</th>\n",
              "      <td>16.07</td>\n",
              "      <td>40.05</td>\n",
              "    </tr>\n",
              "    <tr>\n",
              "      <th>1</th>\n",
              "      <td>20.41</td>\n",
              "      <td>66.49</td>\n",
              "    </tr>\n",
              "    <tr>\n",
              "      <th>2</th>\n",
              "      <td>34.29</td>\n",
              "      <td>91.50</td>\n",
              "    </tr>\n",
              "    <tr>\n",
              "      <th>3</th>\n",
              "      <td>34.10</td>\n",
              "      <td>87.09</td>\n",
              "    </tr>\n",
              "    <tr>\n",
              "      <th>4</th>\n",
              "      <td>32.34</td>\n",
              "      <td>69.30</td>\n",
              "    </tr>\n",
              "  </tbody>\n",
              "</table>\n",
              "</div>\n",
              "      <button class=\"colab-df-convert\" onclick=\"convertToInteractive('df-f2630a99-c381-4f47-8001-a29d32ca1037')\"\n",
              "              title=\"Convert this dataframe to an interactive table.\"\n",
              "              style=\"display:none;\">\n",
              "        \n",
              "  <svg xmlns=\"http://www.w3.org/2000/svg\" height=\"24px\"viewBox=\"0 0 24 24\"\n",
              "       width=\"24px\">\n",
              "    <path d=\"M0 0h24v24H0V0z\" fill=\"none\"/>\n",
              "    <path d=\"M18.56 5.44l.94 2.06.94-2.06 2.06-.94-2.06-.94-.94-2.06-.94 2.06-2.06.94zm-11 1L8.5 8.5l.94-2.06 2.06-.94-2.06-.94L8.5 2.5l-.94 2.06-2.06.94zm10 10l.94 2.06.94-2.06 2.06-.94-2.06-.94-.94-2.06-.94 2.06-2.06.94z\"/><path d=\"M17.41 7.96l-1.37-1.37c-.4-.4-.92-.59-1.43-.59-.52 0-1.04.2-1.43.59L10.3 9.45l-7.72 7.72c-.78.78-.78 2.05 0 2.83L4 21.41c.39.39.9.59 1.41.59.51 0 1.02-.2 1.41-.59l7.78-7.78 2.81-2.81c.8-.78.8-2.07 0-2.86zM5.41 20L4 18.59l7.72-7.72 1.47 1.35L5.41 20z\"/>\n",
              "  </svg>\n",
              "      </button>\n",
              "      \n",
              "  <style>\n",
              "    .colab-df-container {\n",
              "      display:flex;\n",
              "      flex-wrap:wrap;\n",
              "      gap: 12px;\n",
              "    }\n",
              "\n",
              "    .colab-df-convert {\n",
              "      background-color: #E8F0FE;\n",
              "      border: none;\n",
              "      border-radius: 50%;\n",
              "      cursor: pointer;\n",
              "      display: none;\n",
              "      fill: #1967D2;\n",
              "      height: 32px;\n",
              "      padding: 0 0 0 0;\n",
              "      width: 32px;\n",
              "    }\n",
              "\n",
              "    .colab-df-convert:hover {\n",
              "      background-color: #E2EBFA;\n",
              "      box-shadow: 0px 1px 2px rgba(60, 64, 67, 0.3), 0px 1px 3px 1px rgba(60, 64, 67, 0.15);\n",
              "      fill: #174EA6;\n",
              "    }\n",
              "\n",
              "    [theme=dark] .colab-df-convert {\n",
              "      background-color: #3B4455;\n",
              "      fill: #D2E3FC;\n",
              "    }\n",
              "\n",
              "    [theme=dark] .colab-df-convert:hover {\n",
              "      background-color: #434B5C;\n",
              "      box-shadow: 0px 1px 3px 1px rgba(0, 0, 0, 0.15);\n",
              "      filter: drop-shadow(0px 1px 2px rgba(0, 0, 0, 0.3));\n",
              "      fill: #FFFFFF;\n",
              "    }\n",
              "  </style>\n",
              "\n",
              "      <script>\n",
              "        const buttonEl =\n",
              "          document.querySelector('#df-f2630a99-c381-4f47-8001-a29d32ca1037 button.colab-df-convert');\n",
              "        buttonEl.style.display =\n",
              "          google.colab.kernel.accessAllowed ? 'block' : 'none';\n",
              "\n",
              "        async function convertToInteractive(key) {\n",
              "          const element = document.querySelector('#df-f2630a99-c381-4f47-8001-a29d32ca1037');\n",
              "          const dataTable =\n",
              "            await google.colab.kernel.invokeFunction('convertToInteractive',\n",
              "                                                     [key], {});\n",
              "          if (!dataTable) return;\n",
              "\n",
              "          const docLinkHtml = 'Like what you see? Visit the ' +\n",
              "            '<a target=\"_blank\" href=https://colab.research.google.com/notebooks/data_table.ipynb>data table notebook</a>'\n",
              "            + ' to learn more about interactive tables.';\n",
              "          element.innerHTML = '';\n",
              "          dataTable['output_type'] = 'display_data';\n",
              "          await google.colab.output.renderOutput(dataTable, element);\n",
              "          const docLink = document.createElement('div');\n",
              "          docLink.innerHTML = docLinkHtml;\n",
              "          element.appendChild(docLink);\n",
              "        }\n",
              "      </script>\n",
              "    </div>\n",
              "  </div>\n",
              "  "
            ]
          },
          "metadata": {},
          "execution_count": 3
        }
      ]
    },
    {
      "cell_type": "code",
      "source": [
        "alunos_horas.info()\n",
        "print('\\n')\n",
        "alunos_horas.describe()"
      ],
      "metadata": {
        "id": "dH4QG-HmzkXh",
        "colab": {
          "base_uri": "https://localhost:8080/",
          "height": 491
        },
        "outputId": "15dc5ffe-0cd6-459a-c52d-e9ec3f1c0368"
      },
      "execution_count": null,
      "outputs": [
        {
          "output_type": "stream",
          "name": "stdout",
          "text": [
            "<class 'pandas.core.frame.DataFrame'>\n",
            "RangeIndex: 100 entries, 0 to 99\n",
            "Data columns (total 2 columns):\n",
            " #   Column          Non-Null Count  Dtype  \n",
            "---  ------          --------------  -----  \n",
            " 0   horas_estudo    100 non-null    float64\n",
            " 1   nota_avaliacao  100 non-null    float64\n",
            "dtypes: float64(2)\n",
            "memory usage: 1.7 KB\n",
            "\n",
            "\n"
          ]
        },
        {
          "output_type": "execute_result",
          "data": {
            "text/plain": [
              "       horas_estudo  nota_avaliacao\n",
              "count    100.000000      100.000000\n",
              "mean      20.766000       64.222600\n",
              "std       10.731428       22.000436\n",
              "min        0.380000       10.300000\n",
              "25%       13.287500       47.505000\n",
              "50%       19.815000       62.380000\n",
              "75%       29.767500       84.540000\n",
              "max       39.160000      100.000000"
            ],
            "text/html": [
              "\n",
              "  <div id=\"df-4b89c086-576d-48ff-b1c7-2361f39b43e3\">\n",
              "    <div class=\"colab-df-container\">\n",
              "      <div>\n",
              "<style scoped>\n",
              "    .dataframe tbody tr th:only-of-type {\n",
              "        vertical-align: middle;\n",
              "    }\n",
              "\n",
              "    .dataframe tbody tr th {\n",
              "        vertical-align: top;\n",
              "    }\n",
              "\n",
              "    .dataframe thead th {\n",
              "        text-align: right;\n",
              "    }\n",
              "</style>\n",
              "<table border=\"1\" class=\"dataframe\">\n",
              "  <thead>\n",
              "    <tr style=\"text-align: right;\">\n",
              "      <th></th>\n",
              "      <th>horas_estudo</th>\n",
              "      <th>nota_avaliacao</th>\n",
              "    </tr>\n",
              "  </thead>\n",
              "  <tbody>\n",
              "    <tr>\n",
              "      <th>count</th>\n",
              "      <td>100.000000</td>\n",
              "      <td>100.000000</td>\n",
              "    </tr>\n",
              "    <tr>\n",
              "      <th>mean</th>\n",
              "      <td>20.766000</td>\n",
              "      <td>64.222600</td>\n",
              "    </tr>\n",
              "    <tr>\n",
              "      <th>std</th>\n",
              "      <td>10.731428</td>\n",
              "      <td>22.000436</td>\n",
              "    </tr>\n",
              "    <tr>\n",
              "      <th>min</th>\n",
              "      <td>0.380000</td>\n",
              "      <td>10.300000</td>\n",
              "    </tr>\n",
              "    <tr>\n",
              "      <th>25%</th>\n",
              "      <td>13.287500</td>\n",
              "      <td>47.505000</td>\n",
              "    </tr>\n",
              "    <tr>\n",
              "      <th>50%</th>\n",
              "      <td>19.815000</td>\n",
              "      <td>62.380000</td>\n",
              "    </tr>\n",
              "    <tr>\n",
              "      <th>75%</th>\n",
              "      <td>29.767500</td>\n",
              "      <td>84.540000</td>\n",
              "    </tr>\n",
              "    <tr>\n",
              "      <th>max</th>\n",
              "      <td>39.160000</td>\n",
              "      <td>100.000000</td>\n",
              "    </tr>\n",
              "  </tbody>\n",
              "</table>\n",
              "</div>\n",
              "      <button class=\"colab-df-convert\" onclick=\"convertToInteractive('df-4b89c086-576d-48ff-b1c7-2361f39b43e3')\"\n",
              "              title=\"Convert this dataframe to an interactive table.\"\n",
              "              style=\"display:none;\">\n",
              "        \n",
              "  <svg xmlns=\"http://www.w3.org/2000/svg\" height=\"24px\"viewBox=\"0 0 24 24\"\n",
              "       width=\"24px\">\n",
              "    <path d=\"M0 0h24v24H0V0z\" fill=\"none\"/>\n",
              "    <path d=\"M18.56 5.44l.94 2.06.94-2.06 2.06-.94-2.06-.94-.94-2.06-.94 2.06-2.06.94zm-11 1L8.5 8.5l.94-2.06 2.06-.94-2.06-.94L8.5 2.5l-.94 2.06-2.06.94zm10 10l.94 2.06.94-2.06 2.06-.94-2.06-.94-.94-2.06-.94 2.06-2.06.94z\"/><path d=\"M17.41 7.96l-1.37-1.37c-.4-.4-.92-.59-1.43-.59-.52 0-1.04.2-1.43.59L10.3 9.45l-7.72 7.72c-.78.78-.78 2.05 0 2.83L4 21.41c.39.39.9.59 1.41.59.51 0 1.02-.2 1.41-.59l7.78-7.78 2.81-2.81c.8-.78.8-2.07 0-2.86zM5.41 20L4 18.59l7.72-7.72 1.47 1.35L5.41 20z\"/>\n",
              "  </svg>\n",
              "      </button>\n",
              "      \n",
              "  <style>\n",
              "    .colab-df-container {\n",
              "      display:flex;\n",
              "      flex-wrap:wrap;\n",
              "      gap: 12px;\n",
              "    }\n",
              "\n",
              "    .colab-df-convert {\n",
              "      background-color: #E8F0FE;\n",
              "      border: none;\n",
              "      border-radius: 50%;\n",
              "      cursor: pointer;\n",
              "      display: none;\n",
              "      fill: #1967D2;\n",
              "      height: 32px;\n",
              "      padding: 0 0 0 0;\n",
              "      width: 32px;\n",
              "    }\n",
              "\n",
              "    .colab-df-convert:hover {\n",
              "      background-color: #E2EBFA;\n",
              "      box-shadow: 0px 1px 2px rgba(60, 64, 67, 0.3), 0px 1px 3px 1px rgba(60, 64, 67, 0.15);\n",
              "      fill: #174EA6;\n",
              "    }\n",
              "\n",
              "    [theme=dark] .colab-df-convert {\n",
              "      background-color: #3B4455;\n",
              "      fill: #D2E3FC;\n",
              "    }\n",
              "\n",
              "    [theme=dark] .colab-df-convert:hover {\n",
              "      background-color: #434B5C;\n",
              "      box-shadow: 0px 1px 3px 1px rgba(0, 0, 0, 0.15);\n",
              "      filter: drop-shadow(0px 1px 2px rgba(0, 0, 0, 0.3));\n",
              "      fill: #FFFFFF;\n",
              "    }\n",
              "  </style>\n",
              "\n",
              "      <script>\n",
              "        const buttonEl =\n",
              "          document.querySelector('#df-4b89c086-576d-48ff-b1c7-2361f39b43e3 button.colab-df-convert');\n",
              "        buttonEl.style.display =\n",
              "          google.colab.kernel.accessAllowed ? 'block' : 'none';\n",
              "\n",
              "        async function convertToInteractive(key) {\n",
              "          const element = document.querySelector('#df-4b89c086-576d-48ff-b1c7-2361f39b43e3');\n",
              "          const dataTable =\n",
              "            await google.colab.kernel.invokeFunction('convertToInteractive',\n",
              "                                                     [key], {});\n",
              "          if (!dataTable) return;\n",
              "\n",
              "          const docLinkHtml = 'Like what you see? Visit the ' +\n",
              "            '<a target=\"_blank\" href=https://colab.research.google.com/notebooks/data_table.ipynb>data table notebook</a>'\n",
              "            + ' to learn more about interactive tables.';\n",
              "          element.innerHTML = '';\n",
              "          dataTable['output_type'] = 'display_data';\n",
              "          await google.colab.output.renderOutput(dataTable, element);\n",
              "          const docLink = document.createElement('div');\n",
              "          docLink.innerHTML = docLinkHtml;\n",
              "          element.appendChild(docLink);\n",
              "        }\n",
              "      </script>\n",
              "    </div>\n",
              "  </div>\n",
              "  "
            ]
          },
          "metadata": {},
          "execution_count": 4
        }
      ]
    },
    {
      "cell_type": "code",
      "source": [
        "x_estudo_diario = alunos_horas.iloc[:,0].values\n",
        "x_estudo_diario"
      ],
      "metadata": {
        "colab": {
          "base_uri": "https://localhost:8080/"
        },
        "id": "M1UIaRHez2j3",
        "outputId": "238c6270-7138-409b-9d8c-07a869db6492"
      },
      "execution_count": null,
      "outputs": [
        {
          "output_type": "execute_result",
          "data": {
            "text/plain": [
              "array([16.07, 20.41, 34.29, 34.1 , 32.34,  7.3 ,  3.37, 17.74, 33.36,\n",
              "       17.78, 15.79, 13.48, 25.78, 16.03, 31.69, 30.72, 13.9 , 17.85,\n",
              "       35.18,  3.95,  9.03, 22.69, 19.7 , 18.06, 14.58, 18.12, 13.58,\n",
              "       31.22, 21.88, 17.35, 10.3 , 37.13, 24.21, 11.53, 10.63,  9.75,\n",
              "       31.34,  0.38,  0.41, 18.31, 39.08, 28.86, 15.99, 12.62,  5.27,\n",
              "       29.05, 33.92, 15.55, 37.56,  6.22, 12.71, 36.25,  5.59, 34.18,\n",
              "       37.7 , 16.22, 14.14, 27.02, 22.79, 29.71, 27.79, 27.17, 11.88,\n",
              "       21.27, 24.66, 19.43, 37.76, 38.47, 24.08, 26.57, 28.53, 21.28,\n",
              "       15.83,  1.01, 16.25, 33.25, 16.3 , 30.74, 34.9 , 34.09, 29.94,\n",
              "       26.46, 10.24, 38.91, 10.61,  5.66,  4.  , 18.91, 39.16, 25.79,\n",
              "       29.35, 15.25, 26.14,  5.06, 20.32,  6.08,  1.58,  8.39, 19.93,\n",
              "       21.8 ])"
            ]
          },
          "metadata": {},
          "execution_count": 5
        }
      ]
    },
    {
      "cell_type": "code",
      "source": [
        "y_estudo_diario = alunos_horas.iloc[:,1].values\n",
        "y_estudo_diario"
      ],
      "metadata": {
        "colab": {
          "base_uri": "https://localhost:8080/"
        },
        "id": "St4W3x5J0SBr",
        "outputId": "887fb0cc-8ad7-4da7-a9de-959b21a383cf"
      },
      "execution_count": null,
      "outputs": [
        {
          "output_type": "execute_result",
          "data": {
            "text/plain": [
              "array([ 40.05,  66.49,  91.5 ,  87.09,  69.3 ,  90.59,  32.18,  55.02,\n",
              "        75.06,  42.14,  41.35,  55.78,  55.81,  37.61,  59.02,  30.14,\n",
              "        32.66,  47.77,  84.16,  30.93,  55.38,  32.53,  40.73,  62.32,\n",
              "        55.21,  50.97,  60.25,  38.83,  75.56,  56.62,  42.21,  93.04,\n",
              "        52.53,  61.2 ,  44.54,  52.48,  75.16,  10.3 ,  15.52,  44.72,\n",
              "       100.  ,  80.07,  50.49,  54.03,  64.15,  62.44,  90.91,  86.84,\n",
              "        94.71,  34.24,  48.54,  93.54,  56.66,  90.9 ,  79.19,  46.18,\n",
              "        46.71,  74.56,  75.93,  87.5 ,  94.12,  99.22,  56.11,  42.89,\n",
              "        88.95,  87.33,  95.8 ,  94.92,  73.63,  74.64,  66.14,  51.53,\n",
              "        35.42,  34.47,  69.88,  82.41,  36.87,  80.71,  96.18,  92.91,\n",
              "        92.72,  79.59,  85.68,  97.39,  51.88,  37.93,  58.96,  72.65,\n",
              "        99.09,  71.16,  96.76,  68.13,  51.89,  76.03,  70.66,  92.89,\n",
              "        51.01,  32.46,  52.92,  65.99])"
            ]
          },
          "metadata": {},
          "execution_count": 6
        }
      ]
    },
    {
      "cell_type": "code",
      "source": [
        "np.corrcoef(x_estudo_diario,y_estudo_diario)"
      ],
      "metadata": {
        "colab": {
          "base_uri": "https://localhost:8080/"
        },
        "id": "Tu42WaLo0fel",
        "outputId": "12d8db8d-79c8-40d6-bb3f-b3a9792e8016"
      },
      "execution_count": null,
      "outputs": [
        {
          "output_type": "execute_result",
          "data": {
            "text/plain": [
              "array([[1.        , 0.65975872],\n",
              "       [0.65975872, 1.        ]])"
            ]
          },
          "metadata": {},
          "execution_count": 7
        }
      ]
    },
    {
      "cell_type": "code",
      "source": [
        "#Correlação\n",
        "correlation = alunos_horas.corr() \n",
        "plot = sns.heatmap(correlation, annot = True,  linewidths=.3)\n",
        "plot"
      ],
      "metadata": {
        "colab": {
          "base_uri": "https://localhost:8080/",
          "height": 287
        },
        "id": "RCpVcgK00qn_",
        "outputId": "ee441d53-4ef5-4f5d-fdd0-98d05ab0cd68"
      },
      "execution_count": null,
      "outputs": [
        {
          "output_type": "execute_result",
          "data": {
            "text/plain": [
              "<matplotlib.axes._subplots.AxesSubplot at 0x7f6064872dc0>"
            ]
          },
          "metadata": {},
          "execution_count": 8
        },
        {
          "output_type": "display_data",
          "data": {
            "text/plain": [
              "<Figure size 432x288 with 2 Axes>"
            ],
            "image/png": "[encoded data removed]"
          },
          "metadata": {
            "needs_background": "light"
          }
        }
      ]
    },
    {
      "cell_type": "code",
      "source": [
        "x_estudo_diario.shape"
      ],
      "metadata": {
        "colab": {
          "base_uri": "https://localhost:8080/"
        },
        "id": "e7DTaG2S036C",
        "outputId": "cf439bb9-135c-49b2-aa62-9891bfdafd85"
      },
      "execution_count": null,
      "outputs": [
        {
          "output_type": "execute_result",
          "data": {
            "text/plain": [
              "(100,)"
            ]
          },
          "metadata": {},
          "execution_count": 9
        }
      ]
    },
    {
      "cell_type": "code",
      "source": [
        "x_estudo_diario = x_estudo_diario.reshape(-1,1) \n",
        "x_estudo_diario"
      ],
      "metadata": {
        "id": "RnLrjQEQ09TQ",
        "colab": {
          "base_uri": "https://localhost:8080/"
        },
        "outputId": "fe5ce8d5-f3b6-4339-ef58-d1e8a45fed85"
      },
      "execution_count": null,
      "outputs": [
        {
          "output_type": "execute_result",
          "data": {
            "text/plain": [
              "array([[16.07],\n",
              "       [20.41],\n",
              "       [34.29],\n",
              "       [34.1 ],\n",
              "       [32.34],\n",
              "       [ 7.3 ],\n",
              "       [ 3.37],\n",
              "       [17.74],\n",
              "       [33.36],\n",
              "       [17.78],\n",
              "       [15.79],\n",
              "       [13.48],\n",
              "       [25.78],\n",
              "       [16.03],\n",
              "       [31.69],\n",
              "       [30.72],\n",
              "       [13.9 ],\n",
              "       [17.85],\n",
              "       [35.18],\n",
              "       [ 3.95],\n",
              "       [ 9.03],\n",
              "       [22.69],\n",
              "       [19.7 ],\n",
              "       [18.06],\n",
              "       [14.58],\n",
              "       [18.12],\n",
              "       [13.58],\n",
              "       [31.22],\n",
              "       [21.88],\n",
              "       [17.35],\n",
              "       [10.3 ],\n",
              "       [37.13],\n",
              "       [24.21],\n",
              "       [11.53],\n",
              "       [10.63],\n",
              "       [ 9.75],\n",
              "       [31.34],\n",
              "       [ 0.38],\n",
              "       [ 0.41],\n",
              "       [18.31],\n",
              "       [39.08],\n",
              "       [28.86],\n",
              "       [15.99],\n",
              "       [12.62],\n",
              "       [ 5.27],\n",
              "       [29.05],\n",
              "       [33.92],\n",
              "       [15.55],\n",
              "       [37.56],\n",
              "       [ 6.22],\n",
              "       [12.71],\n",
              "       [36.25],\n",
              "       [ 5.59],\n",
              "       [34.18],\n",
              "       [37.7 ],\n",
              "       [16.22],\n",
              "       [14.14],\n",
              "       [27.02],\n",
              "       [22.79],\n",
              "       [29.71],\n",
              "       [27.79],\n",
              "       [27.17],\n",
              "       [11.88],\n",
              "       [21.27],\n",
              "       [24.66],\n",
              "       [19.43],\n",
              "       [37.76],\n",
              "       [38.47],\n",
              "       [24.08],\n",
              "       [26.57],\n",
              "       [28.53],\n",
              "       [21.28],\n",
              "       [15.83],\n",
              "       [ 1.01],\n",
              "       [16.25],\n",
              "       [33.25],\n",
              "       [16.3 ],\n",
              "       [30.74],\n",
              "       [34.9 ],\n",
              "       [34.09],\n",
              "       [29.94],\n",
              "       [26.46],\n",
              "       [10.24],\n",
              "       [38.91],\n",
              "       [10.61],\n",
              "       [ 5.66],\n",
              "       [ 4.  ],\n",
              "       [18.91],\n",
              "       [39.16],\n",
              "       [25.79],\n",
              "       [29.35],\n",
              "       [15.25],\n",
              "       [26.14],\n",
              "       [ 5.06],\n",
              "       [20.32],\n",
              "       [ 6.08],\n",
              "       [ 1.58],\n",
              "       [ 8.39],\n",
              "       [19.93],\n",
              "       [21.8 ]])"
            ]
          },
          "metadata": {},
          "execution_count": 10
        }
      ]
    },
    {
      "cell_type": "code",
      "source": [
        "x_estudo_diario.shape"
      ],
      "metadata": {
        "colab": {
          "base_uri": "https://localhost:8080/"
        },
        "id": "di2LxiXZ1Me_",
        "outputId": "02dfca07-7571-4fb5-f104-8f5895d0d302"
      },
      "execution_count": null,
      "outputs": [
        {
          "output_type": "execute_result",
          "data": {
            "text/plain": [
              "(100, 1)"
            ]
          },
          "metadata": {},
          "execution_count": 11
        }
      ]
    },
    {
      "cell_type": "markdown",
      "source": [
        "# Aplicando os dados ao algoritmo de machine de regressão"
      ],
      "metadata": {
        "id": "sNynlSij1Xbp"
      }
    },
    {
      "cell_type": "code",
      "source": [
        "from sklearn.linear_model import LinearRegression \n",
        "# cria um objeto do tipo regressão linear\n",
        "previsao_nota_estudo = LinearRegression()"
      ],
      "metadata": {
        "id": "dnLElVhV1dYp"
      },
      "execution_count": null,
      "outputs": []
    },
    {
      "cell_type": "code",
      "source": [
        "type(previsao_nota_estudo)"
      ],
      "metadata": {
        "colab": {
          "base_uri": "https://localhost:8080/"
        },
        "id": "RlgpedEY1qpP",
        "outputId": "508b83c9-2997-45ad-cfcc-0302b278bd88"
      },
      "execution_count": null,
      "outputs": [
        {
          "output_type": "execute_result",
          "data": {
            "text/plain": [
              "sklearn.linear_model._base.LinearRegression"
            ]
          },
          "metadata": {},
          "execution_count": 13
        }
      ]
    },
    {
      "cell_type": "code",
      "source": [
        "previsao_nota_estudo.fit(x_estudo_diario, y_estudo_diario) #.fit() sempre usamos para ajustar o modelo aos dados que estamos passando. "
      ],
      "metadata": {
        "colab": {
          "base_uri": "https://localhost:8080/"
        },
        "id": "Ns5mqsce1uTg",
        "outputId": "b7925bf6-9280-499c-c372-b7d1cd22fcab"
      },
      "execution_count": null,
      "outputs": [
        {
          "output_type": "execute_result",
          "data": {
            "text/plain": [
              "LinearRegression()"
            ]
          },
          "metadata": {},
          "execution_count": 14
        }
      ]
    },
    {
      "cell_type": "code",
      "source": [
        "previsao_nota_estudo.intercept_"
      ],
      "metadata": {
        "colab": {
          "base_uri": "https://localhost:8080/"
        },
        "id": "4MiBkyWp1586",
        "outputId": "601c86f3-517f-49a4-e343-fe3cf935b9b8"
      },
      "execution_count": null,
      "outputs": [
        {
          "output_type": "execute_result",
          "data": {
            "text/plain": [
              "36.13518584017032"
            ]
          },
          "metadata": {},
          "execution_count": 15
        }
      ]
    },
    {
      "cell_type": "code",
      "source": [
        "previsao_nota_estudo.coef_"
      ],
      "metadata": {
        "colab": {
          "base_uri": "https://localhost:8080/"
        },
        "id": "LpcOoZbp2A2K",
        "outputId": "4c7fc26a-bd6f-456d-c3e2-44f24b0aa877"
      },
      "execution_count": null,
      "outputs": [
        {
          "output_type": "execute_result",
          "data": {
            "text/plain": [
              "array([1.35256738])"
            ]
          },
          "metadata": {},
          "execution_count": 16
        }
      ]
    },
    {
      "cell_type": "code",
      "source": [
        "previsao_notas_final = previsao_nota_estudo.predict(x_estudo_diario)"
      ],
      "metadata": {
        "id": "IGJkAk_K2GhF"
      },
      "execution_count": null,
      "outputs": []
    },
    {
      "cell_type": "code",
      "source": [
        "previsao_notas_final"
      ],
      "metadata": {
        "colab": {
          "base_uri": "https://localhost:8080/"
        },
        "id": "ODyeCEWP2VoI",
        "outputId": "50ec4b11-4a4f-4f8a-b87a-b7ca61e0b529"
      },
      "execution_count": null,
      "outputs": [
        {
          "output_type": "execute_result",
          "data": {
            "text/plain": [
              "array([57.8709436 , 63.74108601, 82.51472121, 82.25773341, 79.87721483,\n",
              "       46.0089277 , 40.6933379 , 60.12973112, 81.25683355, 60.18383381,\n",
              "       57.49222473, 54.36779409, 71.00437283, 57.8168409 , 78.99804603,\n",
              "       77.68605567, 54.93587239, 60.27851353, 83.71850618, 41.47782698,\n",
              "       48.34886926, 66.82493963, 62.78076318, 60.56255268, 55.8556182 ,\n",
              "       60.64370672, 54.50305083, 78.36233936, 65.72936006, 59.60222984,\n",
              "       50.06662983, 86.35601256, 68.88084205, 51.7302877 , 50.51297706,\n",
              "       49.32271777, 78.52464745, 36.64916144, 36.68973846, 60.90069452,\n",
              "       88.99351895, 75.17028035, 57.76273821, 53.20458614, 43.26321592,\n",
              "       75.42726815, 82.01427128, 57.16760856, 86.93761654, 44.54815493,\n",
              "       53.32631721, 85.16575327, 43.69603748, 82.3659388 , 87.12697597,\n",
              "       58.0738287 , 55.26048856, 72.68155638, 66.96019637, 76.31996262,\n",
              "       73.72303326, 72.88444149, 52.20368628, 64.90429396, 69.48949737,\n",
              "       62.41556998, 87.20813001, 88.16845285, 68.70500829, 72.07290106,\n",
              "       74.72393312, 64.91781963, 57.54632742, 37.50127889, 58.11440572,\n",
              "       81.10805114, 58.18203409, 77.71310702, 83.33978731, 82.24420774,\n",
              "       76.63105312, 71.92411865, 49.98547579, 88.7635825 , 50.48592571,\n",
              "       43.7907172 , 41.54545535, 61.71223495, 89.10172434, 71.0178985 ,\n",
              "       75.83303837, 56.76183835, 71.49129709, 42.97917677, 63.61935495,\n",
              "       44.35879549, 38.2722423 , 47.48322614, 63.09185367, 65.62115467])"
            ]
          },
          "metadata": {},
          "execution_count": 18
        }
      ]
    },
    {
      "cell_type": "code",
      "source": [
        "x_estudo_diario"
      ],
      "metadata": {
        "id": "t01pld9t2lTx",
        "colab": {
          "base_uri": "https://localhost:8080/"
        },
        "outputId": "66a3e1c5-7d4d-4829-c04c-90524c867358"
      },
      "execution_count": null,
      "outputs": [
        {
          "output_type": "execute_result",
          "data": {
            "text/plain": [
              "array([[16.07],\n",
              "       [20.41],\n",
              "       [34.29],\n",
              "       [34.1 ],\n",
              "       [32.34],\n",
              "       [ 7.3 ],\n",
              "       [ 3.37],\n",
              "       [17.74],\n",
              "       [33.36],\n",
              "       [17.78],\n",
              "       [15.79],\n",
              "       [13.48],\n",
              "       [25.78],\n",
              "       [16.03],\n",
              "       [31.69],\n",
              "       [30.72],\n",
              "       [13.9 ],\n",
              "       [17.85],\n",
              "       [35.18],\n",
              "       [ 3.95],\n",
              "       [ 9.03],\n",
              "       [22.69],\n",
              "       [19.7 ],\n",
              "       [18.06],\n",
              "       [14.58],\n",
              "       [18.12],\n",
              "       [13.58],\n",
              "       [31.22],\n",
              "       [21.88],\n",
              "       [17.35],\n",
              "       [10.3 ],\n",
              "       [37.13],\n",
              "       [24.21],\n",
              "       [11.53],\n",
              "       [10.63],\n",
              "       [ 9.75],\n",
              "       [31.34],\n",
              "       [ 0.38],\n",
              "       [ 0.41],\n",
              "       [18.31],\n",
              "       [39.08],\n",
              "       [28.86],\n",
              "       [15.99],\n",
              "       [12.62],\n",
              "       [ 5.27],\n",
              "       [29.05],\n",
              "       [33.92],\n",
              "       [15.55],\n",
              "       [37.56],\n",
              "       [ 6.22],\n",
              "       [12.71],\n",
              "       [36.25],\n",
              "       [ 5.59],\n",
              "       [34.18],\n",
              "       [37.7 ],\n",
              "       [16.22],\n",
              "       [14.14],\n",
              "       [27.02],\n",
              "       [22.79],\n",
              "       [29.71],\n",
              "       [27.79],\n",
              "       [27.17],\n",
              "       [11.88],\n",
              "       [21.27],\n",
              "       [24.66],\n",
              "       [19.43],\n",
              "       [37.76],\n",
              "       [38.47],\n",
              "       [24.08],\n",
              "       [26.57],\n",
              "       [28.53],\n",
              "       [21.28],\n",
              "       [15.83],\n",
              "       [ 1.01],\n",
              "       [16.25],\n",
              "       [33.25],\n",
              "       [16.3 ],\n",
              "       [30.74],\n",
              "       [34.9 ],\n",
              "       [34.09],\n",
              "       [29.94],\n",
              "       [26.46],\n",
              "       [10.24],\n",
              "       [38.91],\n",
              "       [10.61],\n",
              "       [ 5.66],\n",
              "       [ 4.  ],\n",
              "       [18.91],\n",
              "       [39.16],\n",
              "       [25.79],\n",
              "       [29.35],\n",
              "       [15.25],\n",
              "       [26.14],\n",
              "       [ 5.06],\n",
              "       [20.32],\n",
              "       [ 6.08],\n",
              "       [ 1.58],\n",
              "       [ 8.39],\n",
              "       [19.93],\n",
              "       [21.8 ]])"
            ]
          },
          "metadata": {},
          "execution_count": 19
        }
      ]
    },
    {
      "cell_type": "code",
      "source": [
        "x_estudo_diario.ravel()"
      ],
      "metadata": {
        "colab": {
          "base_uri": "https://localhost:8080/"
        },
        "id": "IBi9RNFm2rfA",
        "outputId": "f9c3f272-f8b0-4ed2-e410-89eb16b6c125"
      },
      "execution_count": null,
      "outputs": [
        {
          "output_type": "execute_result",
          "data": {
            "text/plain": [
              "array([16.07, 20.41, 34.29, 34.1 , 32.34,  7.3 ,  3.37, 17.74, 33.36,\n",
              "       17.78, 15.79, 13.48, 25.78, 16.03, 31.69, 30.72, 13.9 , 17.85,\n",
              "       35.18,  3.95,  9.03, 22.69, 19.7 , 18.06, 14.58, 18.12, 13.58,\n",
              "       31.22, 21.88, 17.35, 10.3 , 37.13, 24.21, 11.53, 10.63,  9.75,\n",
              "       31.34,  0.38,  0.41, 18.31, 39.08, 28.86, 15.99, 12.62,  5.27,\n",
              "       29.05, 33.92, 15.55, 37.56,  6.22, 12.71, 36.25,  5.59, 34.18,\n",
              "       37.7 , 16.22, 14.14, 27.02, 22.79, 29.71, 27.79, 27.17, 11.88,\n",
              "       21.27, 24.66, 19.43, 37.76, 38.47, 24.08, 26.57, 28.53, 21.28,\n",
              "       15.83,  1.01, 16.25, 33.25, 16.3 , 30.74, 34.9 , 34.09, 29.94,\n",
              "       26.46, 10.24, 38.91, 10.61,  5.66,  4.  , 18.91, 39.16, 25.79,\n",
              "       29.35, 15.25, 26.14,  5.06, 20.32,  6.08,  1.58,  8.39, 19.93,\n",
              "       21.8 ])"
            ]
          },
          "metadata": {},
          "execution_count": 20
        }
      ]
    },
    {
      "cell_type": "code",
      "source": [
        "y_estudo_diario"
      ],
      "metadata": {
        "colab": {
          "base_uri": "https://localhost:8080/"
        },
        "id": "dY8pZBVF2vcE",
        "outputId": "58e79231-7070-4556-aa77-ebb67e0dcff5"
      },
      "execution_count": null,
      "outputs": [
        {
          "output_type": "execute_result",
          "data": {
            "text/plain": [
              "array([ 40.05,  66.49,  91.5 ,  87.09,  69.3 ,  90.59,  32.18,  55.02,\n",
              "        75.06,  42.14,  41.35,  55.78,  55.81,  37.61,  59.02,  30.14,\n",
              "        32.66,  47.77,  84.16,  30.93,  55.38,  32.53,  40.73,  62.32,\n",
              "        55.21,  50.97,  60.25,  38.83,  75.56,  56.62,  42.21,  93.04,\n",
              "        52.53,  61.2 ,  44.54,  52.48,  75.16,  10.3 ,  15.52,  44.72,\n",
              "       100.  ,  80.07,  50.49,  54.03,  64.15,  62.44,  90.91,  86.84,\n",
              "        94.71,  34.24,  48.54,  93.54,  56.66,  90.9 ,  79.19,  46.18,\n",
              "        46.71,  74.56,  75.93,  87.5 ,  94.12,  99.22,  56.11,  42.89,\n",
              "        88.95,  87.33,  95.8 ,  94.92,  73.63,  74.64,  66.14,  51.53,\n",
              "        35.42,  34.47,  69.88,  82.41,  36.87,  80.71,  96.18,  92.91,\n",
              "        92.72,  79.59,  85.68,  97.39,  51.88,  37.93,  58.96,  72.65,\n",
              "        99.09,  71.16,  96.76,  68.13,  51.89,  76.03,  70.66,  92.89,\n",
              "        51.01,  32.46,  52.92,  65.99])"
            ]
          },
          "metadata": {},
          "execution_count": 21
        }
      ]
    },
    {
      "cell_type": "code",
      "source": [
        "grafico = px.scatter(x = x_estudo_diario.ravel(), y = y_estudo_diario)\n",
        "grafico.add_scatter(x = x_estudo_diario.ravel(), y = previsao_notas_final,name = 'previsões')\n",
        "grafico.show()"
      ],
      "metadata": {
        "colab": {
          "base_uri": "https://localhost:8080/",
          "height": 542
        },
        "id": "Mt4ZuiTg2274",
        "outputId": "478458c6-fcde-4392-ba34-d8c03dd552f2"
      },
      "execution_count": null,
      "outputs": [
        {
          "output_type": "display_data",
          "data": {
            "text/html": [
              "<html>\n",
              "<head><meta charset=\"utf-8\" /></head>\n",
              "<body>\n",
              "    <div>            <script src=\"https://cdnjs.cloudflare.com/ajax/libs/mathjax/2.7.5/MathJax.js?config=TeX-AMS-MML_SVG\"></script><script type=\"text/javascript\">if (window.MathJax) {MathJax.Hub.Config({SVG: {font: \"STIX-Web\"}});}</script>                <script type=\"text/javascript\">window.PlotlyConfig = {MathJaxConfig: 'local'};</script>\n",
              "        <script src=\"https://cdn.plot.ly/plotly-2.8.3.min.js\"></script>                <div id=\"3fd53487-8585-4aff-8e6b-f48d549ec7cf\" class=\"plotly-graph-div\" style=\"height:525px; width:100%;\"></div>            <script type=\"text/javascript\">                                    window.PLOTLYENV=window.PLOTLYENV || {};                                    if (document.getElementById(\"3fd53487-8585-4aff-8e6b-f48d549ec7cf\")) {                    Plotly.newPlot(                        \"3fd53487-8585-4aff-8e6b-f48d549ec7cf\",                        [{\"hovertemplate\":\"x=%{x}<br>y=%{y}<extra></extra>\",\"legendgroup\":\"\",\"marker\":{\"color\":\"#636efa\",\"symbol\":\"circle\"},\"mode\":\"markers\",\"name\":\"\",\"orientation\":\"v\",\"showlegend\":false,\"x\":[16.07,20.41,34.29,34.1,32.34,7.3,3.37,17.74,33.36,17.78,15.79,13.48,25.78,16.03,31.69,30.72,13.9,17.85,35.18,3.95,9.03,22.69,19.7,18.06,14.58,18.12,13.58,31.22,21.88,17.35,10.3,37.13,24.21,11.53,10.63,9.75,31.34,0.38,0.41,18.31,39.08,28.86,15.99,12.62,5.27,29.05,33.92,15.55,37.56,6.22,12.71,36.25,5.59,34.18,37.7,16.22,14.14,27.02,22.79,29.71,27.79,27.17,11.88,21.27,24.66,19.43,37.76,38.47,24.08,26.57,28.53,21.28,15.83,1.01,16.25,33.25,16.3,30.74,34.9,34.09,29.94,26.46,10.24,38.91,10.61,5.66,4.0,18.91,39.16,25.79,29.35,15.25,26.14,5.06,20.32,6.08,1.58,8.39,19.93,21.8],\"xaxis\":\"x\",\"y\":[40.05,66.49,91.5,87.09,69.3,90.59,32.18,55.02,75.06,42.14,41.35,55.78,55.81,37.61,59.02,30.14,32.66,47.77,84.16,30.93,55.38,32.53,40.73,62.32,55.21,50.97,60.25,38.83,75.56,56.62,42.21,93.04,52.53,61.2,44.54,52.48,75.16,10.3,15.52,44.72,100.0,80.07,50.49,54.03,64.15,62.44,90.91,86.84,94.71,34.24,48.54,93.54,56.66,90.9,79.19,46.18,46.71,74.56,75.93,87.5,94.12,99.22,56.11,42.89,88.95,87.33,95.8,94.92,73.63,74.64,66.14,51.53,35.42,34.47,69.88,82.41,36.87,80.71,96.18,92.91,92.72,79.59,85.68,97.39,51.88,37.93,58.96,72.65,99.09,71.16,96.76,68.13,51.89,76.03,70.66,92.89,51.01,32.46,52.92,65.99],\"yaxis\":\"y\",\"type\":\"scatter\"},{\"name\":\"previs\\u00f5es\",\"x\":[16.07,20.41,34.29,34.1,32.34,7.3,3.37,17.74,33.36,17.78,15.79,13.48,25.78,16.03,31.69,30.72,13.9,17.85,35.18,3.95,9.03,22.69,19.7,18.06,14.58,18.12,13.58,31.22,21.88,17.35,10.3,37.13,24.21,11.53,10.63,9.75,31.34,0.38,0.41,18.31,39.08,28.86,15.99,12.62,5.27,29.05,33.92,15.55,37.56,6.22,12.71,36.25,5.59,34.18,37.7,16.22,14.14,27.02,22.79,29.71,27.79,27.17,11.88,21.27,24.66,19.43,37.76,38.47,24.08,26.57,28.53,21.28,15.83,1.01,16.25,33.25,16.3,30.74,34.9,34.09,29.94,26.46,10.24,38.91,10.61,5.66,4.0,18.91,39.16,25.79,29.35,15.25,26.14,5.06,20.32,6.08,1.58,8.39,19.93,21.8],\"y\":[57.87094359556197,63.74108601363288,82.51472121244035,82.25773341072757,79.87721482644075,46.00892769545091,40.69333790212862,60.12973111587957,81.25683355142516,60.183833810977006,57.492224729879965,54.36779408800351,71.00437283046259,57.81684090046454,78.99804603110755,77.68605567499492,54.9358723865265,60.27851352739751,83.71850617835813,41.477826981041325,48.34886925841466,66.82493963418628,62.78076317565354,60.562552676658996,55.85561820318277,60.64370671930514,54.50305082574708,78.36233936371276,65.72936005846336,59.602229838679655,50.06662982775799,86.35601256435774,68.88084204788854,51.7302877020039,50.512977062311776,49.32271777016836,78.52464744900504,36.64916144359589,36.68973846491896,60.900694521017925,88.99351895035733,75.17028035296451,57.76273820536711,53.204586143408804,43.26321591925644,75.42726815467731,82.01427128278914,57.1676085592954,86.93761653665507,44.548154927820356,53.326317207378025,85.16575327221432,43.69603748003586,82.36593880092242,87.12697596949607,58.073828702177316,55.260488557111074,72.68155637848284,66.96019637192984,76.31996262378486,73.72303325910832,72.8844414850982,52.203686284106396,64.90429395822758,69.4894973677346,62.4155699837459,87.20813001214222,88.16845285012155,68.70500828882189,72.07290105863677,74.72393311841074,64.91781963200194,57.54632742497739,37.50127889138037,58.11440572350038,81.10805113990722,58.18203409237218,77.71310702254362,83.33978731267612,82.24420773695321,76.63105312059507,71.92411864711885,49.98547578511185,88.76358249619327,50.485925714763056,43.79071719645636,41.545455349913105,61.712234947479345,89.10172434055218,71.01789850423694,75.83303836790802,56.76183834606469,71.49129708633942,42.97917676999494,63.61935494966367,44.358795494979354,38.272242296518726,47.48322613685582,63.09185367246375,65.6211546682685],\"type\":\"scatter\"}],                        {\"template\":{\"data\":{\"bar\":[{\"error_x\":{\"color\":\"#2a3f5f\"},\"error_y\":{\"color\":\"#2a3f5f\"},\"marker\":{\"line\":{\"color\":\"#E5ECF6\",\"width\":0.5},\"pattern\":{\"fillmode\":\"overlay\",\"size\":10,\"solidity\":0.2}},\"type\":\"bar\"}],\"barpolar\":[{\"marker\":{\"line\":{\"color\":\"#E5ECF6\",\"width\":0.5},\"pattern\":{\"fillmode\":\"overlay\",\"size\":10,\"solidity\":0.2}},\"type\":\"barpolar\"}],\"carpet\":[{\"aaxis\":{\"endlinecolor\":\"#2a3f5f\",\"gridcolor\":\"white\",\"linecolor\":\"white\",\"minorgridcolor\":\"white\",\"startlinecolor\":\"#2a3f5f\"},\"baxis\":{\"endlinecolor\":\"#2a3f5f\",\"gridcolor\":\"white\",\"linecolor\":\"white\",\"minorgridcolor\":\"white\",\"startlinecolor\":\"#2a3f5f\"},\"type\":\"carpet\"}],\"choropleth\":[{\"colorbar\":{\"outlinewidth\":0,\"ticks\":\"\"},\"type\":\"choropleth\"}],\"contour\":[{\"colorbar\":{\"outlinewidth\":0,\"ticks\":\"\"},\"colorscale\":[[0.0,\"#0d0887\"],[0.1111111111111111,\"#46039f\"],[0.2222222222222222,\"#7201a8\"],[0.3333333333333333,\"#9c179e\"],[0.4444444444444444,\"#bd3786\"],[0.5555555555555556,\"#d8576b\"],[0.6666666666666666,\"#ed7953\"],[0.7777777777777778,\"#fb9f3a\"],[0.8888888888888888,\"#fdca26\"],[1.0,\"#f0f921\"]],\"type\":\"contour\"}],\"contourcarpet\":[{\"colorbar\":{\"outlinewidth\":0,\"ticks\":\"\"},\"type\":\"contourcarpet\"}],\"heatmap\":[{\"colorbar\":{\"outlinewidth\":0,\"ticks\":\"\"},\"colorscale\":[[0.0,\"#0d0887\"],[0.1111111111111111,\"#46039f\"],[0.2222222222222222,\"#7201a8\"],[0.3333333333333333,\"#9c179e\"],[0.4444444444444444,\"#bd3786\"],[0.5555555555555556,\"#d8576b\"],[0.6666666666666666,\"#ed7953\"],[0.7777777777777778,\"#fb9f3a\"],[0.8888888888888888,\"#fdca26\"],[1.0,\"#f0f921\"]],\"type\":\"heatmap\"}],\"heatmapgl\":[{\"colorbar\":{\"outlinewidth\":0,\"ticks\":\"\"},\"colorscale\":[[0.0,\"#0d0887\"],[0.1111111111111111,\"#46039f\"],[0.2222222222222222,\"#7201a8\"],[0.3333333333333333,\"#9c179e\"],[0.4444444444444444,\"#bd3786\"],[0.5555555555555556,\"#d8576b\"],[0.6666666666666666,\"#ed7953\"],[0.7777777777777778,\"#fb9f3a\"],[0.8888888888888888,\"#fdca26\"],[1.0,\"#f0f921\"]],\"type\":\"heatmapgl\"}],\"histogram\":[{\"marker\":{\"pattern\":{\"fillmode\":\"overlay\",\"size\":10,\"solidity\":0.2}},\"type\":\"histogram\"}],\"histogram2d\":[{\"colorbar\":{\"outlinewidth\":0,\"ticks\":\"\"},\"colorscale\":[[0.0,\"#0d0887\"],[0.1111111111111111,\"#46039f\"],[0.2222222222222222,\"#7201a8\"],[0.3333333333333333,\"#9c179e\"],[0.4444444444444444,\"#bd3786\"],[0.5555555555555556,\"#d8576b\"],[0.6666666666666666,\"#ed7953\"],[0.7777777777777778,\"#fb9f3a\"],[0.8888888888888888,\"#fdca26\"],[1.0,\"#f0f921\"]],\"type\":\"histogram2d\"}],\"histogram2dcontour\":[{\"colorbar\":{\"outlinewidth\":0,\"ticks\":\"\"},\"colorscale\":[[0.0,\"#0d0887\"],[0.1111111111111111,\"#46039f\"],[0.2222222222222222,\"#7201a8\"],[0.3333333333333333,\"#9c179e\"],[0.4444444444444444,\"#bd3786\"],[0.5555555555555556,\"#d8576b\"],[0.6666666666666666,\"#ed7953\"],[0.7777777777777778,\"#fb9f3a\"],[0.8888888888888888,\"#fdca26\"],[1.0,\"#f0f921\"]],\"type\":\"histogram2dcontour\"}],\"mesh3d\":[{\"colorbar\":{\"outlinewidth\":0,\"ticks\":\"\"},\"type\":\"mesh3d\"}],\"parcoords\":[{\"line\":{\"colorbar\":{\"outlinewidth\":0,\"ticks\":\"\"}},\"type\":\"parcoords\"}],\"pie\":[{\"automargin\":true,\"type\":\"pie\"}],\"scatter\":[{\"marker\":{\"colorbar\":{\"outlinewidth\":0,\"ticks\":\"\"}},\"type\":\"scatter\"}],\"scatter3d\":[{\"line\":{\"colorbar\":{\"outlinewidth\":0,\"ticks\":\"\"}},\"marker\":{\"colorbar\":{\"outlinewidth\":0,\"ticks\":\"\"}},\"type\":\"scatter3d\"}],\"scattercarpet\":[{\"marker\":{\"colorbar\":{\"outlinewidth\":0,\"ticks\":\"\"}},\"type\":\"scattercarpet\"}],\"scattergeo\":[{\"marker\":{\"colorbar\":{\"outlinewidth\":0,\"ticks\":\"\"}},\"type\":\"scattergeo\"}],\"scattergl\":[{\"marker\":{\"colorbar\":{\"outlinewidth\":0,\"ticks\":\"\"}},\"type\":\"scattergl\"}],\"scattermapbox\":[{\"marker\":{\"colorbar\":{\"outlinewidth\":0,\"ticks\":\"\"}},\"type\":\"scattermapbox\"}],\"scatterpolar\":[{\"marker\":{\"colorbar\":{\"outlinewidth\":0,\"ticks\":\"\"}},\"type\":\"scatterpolar\"}],\"scatterpolargl\":[{\"marker\":{\"colorbar\":{\"outlinewidth\":0,\"ticks\":\"\"}},\"type\":\"scatterpolargl\"}],\"scatterternary\":[{\"marker\":{\"colorbar\":{\"outlinewidth\":0,\"ticks\":\"\"}},\"type\":\"scatterternary\"}],\"surface\":[{\"colorbar\":{\"outlinewidth\":0,\"ticks\":\"\"},\"colorscale\":[[0.0,\"#0d0887\"],[0.1111111111111111,\"#46039f\"],[0.2222222222222222,\"#7201a8\"],[0.3333333333333333,\"#9c179e\"],[0.4444444444444444,\"#bd3786\"],[0.5555555555555556,\"#d8576b\"],[0.6666666666666666,\"#ed7953\"],[0.7777777777777778,\"#fb9f3a\"],[0.8888888888888888,\"#fdca26\"],[1.0,\"#f0f921\"]],\"type\":\"surface\"}],\"table\":[{\"cells\":{\"fill\":{\"color\":\"#EBF0F8\"},\"line\":{\"color\":\"white\"}},\"header\":{\"fill\":{\"color\":\"#C8D4E3\"},\"line\":{\"color\":\"white\"}},\"type\":\"table\"}]},\"layout\":{\"annotationdefaults\":{\"arrowcolor\":\"#2a3f5f\",\"arrowhead\":0,\"arrowwidth\":1},\"autotypenumbers\":\"strict\",\"coloraxis\":{\"colorbar\":{\"outlinewidth\":0,\"ticks\":\"\"}},\"colorscale\":{\"diverging\":[[0,\"#8e0152\"],[0.1,\"#c51b7d\"],[0.2,\"#de77ae\"],[0.3,\"#f1b6da\"],[0.4,\"#fde0ef\"],[0.5,\"#f7f7f7\"],[0.6,\"#e6f5d0\"],[0.7,\"#b8e186\"],[0.8,\"#7fbc41\"],[0.9,\"#4d9221\"],[1,\"#276419\"]],\"sequential\":[[0.0,\"#0d0887\"],[0.1111111111111111,\"#46039f\"],[0.2222222222222222,\"#7201a8\"],[0.3333333333333333,\"#9c179e\"],[0.4444444444444444,\"#bd3786\"],[0.5555555555555556,\"#d8576b\"],[0.6666666666666666,\"#ed7953\"],[0.7777777777777778,\"#fb9f3a\"],[0.8888888888888888,\"#fdca26\"],[1.0,\"#f0f921\"]],\"sequentialminus\":[[0.0,\"#0d0887\"],[0.1111111111111111,\"#46039f\"],[0.2222222222222222,\"#7201a8\"],[0.3333333333333333,\"#9c179e\"],[0.4444444444444444,\"#bd3786\"],[0.5555555555555556,\"#d8576b\"],[0.6666666666666666,\"#ed7953\"],[0.7777777777777778,\"#fb9f3a\"],[0.8888888888888888,\"#fdca26\"],[1.0,\"#f0f921\"]]},\"colorway\":[\"#636efa\",\"#EF553B\",\"#00cc96\",\"#ab63fa\",\"#FFA15A\",\"#19d3f3\",\"#FF6692\",\"#B6E880\",\"#FF97FF\",\"#FECB52\"],\"font\":{\"color\":\"#2a3f5f\"},\"geo\":{\"bgcolor\":\"white\",\"lakecolor\":\"white\",\"landcolor\":\"#E5ECF6\",\"showlakes\":true,\"showland\":true,\"subunitcolor\":\"white\"},\"hoverlabel\":{\"align\":\"left\"},\"hovermode\":\"closest\",\"mapbox\":{\"style\":\"light\"},\"paper_bgcolor\":\"white\",\"plot_bgcolor\":\"#E5ECF6\",\"polar\":{\"angularaxis\":{\"gridcolor\":\"white\",\"linecolor\":\"white\",\"ticks\":\"\"},\"bgcolor\":\"#E5ECF6\",\"radialaxis\":{\"gridcolor\":\"white\",\"linecolor\":\"white\",\"ticks\":\"\"}},\"scene\":{\"xaxis\":{\"backgroundcolor\":\"#E5ECF6\",\"gridcolor\":\"white\",\"gridwidth\":2,\"linecolor\":\"white\",\"showbackground\":true,\"ticks\":\"\",\"zerolinecolor\":\"white\"},\"yaxis\":{\"backgroundcolor\":\"#E5ECF6\",\"gridcolor\":\"white\",\"gridwidth\":2,\"linecolor\":\"white\",\"showbackground\":true,\"ticks\":\"\",\"zerolinecolor\":\"white\"},\"zaxis\":{\"backgroundcolor\":\"#E5ECF6\",\"gridcolor\":\"white\",\"gridwidth\":2,\"linecolor\":\"white\",\"showbackground\":true,\"ticks\":\"\",\"zerolinecolor\":\"white\"}},\"shapedefaults\":{\"line\":{\"color\":\"#2a3f5f\"}},\"ternary\":{\"aaxis\":{\"gridcolor\":\"white\",\"linecolor\":\"white\",\"ticks\":\"\"},\"baxis\":{\"gridcolor\":\"white\",\"linecolor\":\"white\",\"ticks\":\"\"},\"bgcolor\":\"#E5ECF6\",\"caxis\":{\"gridcolor\":\"white\",\"linecolor\":\"white\",\"ticks\":\"\"}},\"title\":{\"x\":0.05},\"xaxis\":{\"automargin\":true,\"gridcolor\":\"white\",\"linecolor\":\"white\",\"ticks\":\"\",\"title\":{\"standoff\":15},\"zerolinecolor\":\"white\",\"zerolinewidth\":2},\"yaxis\":{\"automargin\":true,\"gridcolor\":\"white\",\"linecolor\":\"white\",\"ticks\":\"\",\"title\":{\"standoff\":15},\"zerolinecolor\":\"white\",\"zerolinewidth\":2}}},\"xaxis\":{\"anchor\":\"y\",\"domain\":[0.0,1.0],\"title\":{\"text\":\"x\"}},\"yaxis\":{\"anchor\":\"x\",\"domain\":[0.0,1.0],\"title\":{\"text\":\"y\"}},\"legend\":{\"tracegroupgap\":0},\"margin\":{\"t\":60}},                        {\"responsive\": true}                    ).then(function(){\n",
              "                            \n",
              "var gd = document.getElementById('3fd53487-8585-4aff-8e6b-f48d549ec7cf');\n",
              "var x = new MutationObserver(function (mutations, observer) {{\n",
              "        var display = window.getComputedStyle(gd).display;\n",
              "        if (!display || display === 'none') {{\n",
              "            console.log([gd, 'removed!']);\n",
              "            Plotly.purge(gd);\n",
              "            observer.disconnect();\n",
              "        }}\n",
              "}});\n",
              "\n",
              "// Listen for the removal of the full notebook cells\n",
              "var notebookContainer = gd.closest('#notebook-container');\n",
              "if (notebookContainer) {{\n",
              "    x.observe(notebookContainer, {childList: true});\n",
              "}}\n",
              "\n",
              "// Listen for the clearing of the current output cell\n",
              "var outputEl = gd.closest('.output');\n",
              "if (outputEl) {{\n",
              "    x.observe(outputEl, {childList: true});\n",
              "}}\n",
              "\n",
              "                        })                };                            </script>        </div>\n",
              "</body>\n",
              "</html>"
            ]
          },
          "metadata": {}
        }
      ]
    },
    {
      "cell_type": "code",
      "source": [
        "qtd_pessoas = 18.06\n",
        "previsao_nota_estudo.intercept_ + previsao_nota_estudo.coef_ * qtd_pessoas"
      ],
      "metadata": {
        "colab": {
          "base_uri": "https://localhost:8080/"
        },
        "id": "XPd6ZcTg3Qnb",
        "outputId": "23bb4e09-78dc-4319-e71f-1d485bcee0af"
      },
      "execution_count": null,
      "outputs": [
        {
          "output_type": "execute_result",
          "data": {
            "text/plain": [
              "array([60.56255268])"
            ]
          },
          "metadata": {},
          "execution_count": 23
        }
      ]
    },
    {
      "cell_type": "code",
      "source": [
        "previsao_nota_estudo.predict([[18.06]])"
      ],
      "metadata": {
        "colab": {
          "base_uri": "https://localhost:8080/"
        },
        "id": "fHDzKrAE3v1H",
        "outputId": "b6c77d10-d385-4554-c074-8c697a87cfbe"
      },
      "execution_count": null,
      "outputs": [
        {
          "output_type": "execute_result",
          "data": {
            "text/plain": [
              "array([60.56255268])"
            ]
          },
          "metadata": {},
          "execution_count": 24
        }
      ]
    },
    {
      "cell_type": "code",
      "source": [
        "previsao_nota_estudo.score(x_estudo_diario, y_estudo_diario)"
      ],
      "metadata": {
        "colab": {
          "base_uri": "https://localhost:8080/"
        },
        "id": "ns3Mvz-w4YqJ",
        "outputId": "00d2020b-e978-4491-fb50-7260fdf0e85b"
      },
      "execution_count": null,
      "outputs": [
        {
          "output_type": "execute_result",
          "data": {
            "text/plain": [
              "0.43528156504806215"
            ]
          },
          "metadata": {},
          "execution_count": 25
        }
      ]
    },
    {
      "cell_type": "code",
      "source": [
        "from sklearn.metrics import mean_squared_error, mean_absolute_error\n",
        "MSE = mean_squared_error(y_estudo_diario, previsao_notas_final)"
      ],
      "metadata": {
        "id": "XeyPFba54itR"
      },
      "execution_count": null,
      "outputs": []
    },
    {
      "cell_type": "code",
      "source": [
        "mean_absolute_error(y_estudo_diario, previsao_notas_final)"
      ],
      "metadata": {
        "colab": {
          "base_uri": "https://localhost:8080/"
        },
        "id": "Ro48ybkc4rNn",
        "outputId": "e241b8eb-5d25-40a0-b38a-dda18e54dbc7"
      },
      "execution_count": null,
      "outputs": [
        {
          "output_type": "execute_result",
          "data": {
            "text/plain": [
              "12.83868977098035"
            ]
          },
          "metadata": {},
          "execution_count": 27
        }
      ]
    },
    {
      "cell_type": "code",
      "source": [
        "MSE"
      ],
      "metadata": {
        "colab": {
          "base_uri": "https://localhost:8080/"
        },
        "id": "JusyJqbv4sr4",
        "outputId": "84070acf-0bce-4957-951d-b9fecb0422a8"
      },
      "execution_count": null,
      "outputs": [
        {
          "output_type": "execute_result",
          "data": {
            "text/plain": [
              "270.601202088843"
            ]
          },
          "metadata": {},
          "execution_count": 28
        }
      ]
    },
    {
      "cell_type": "code",
      "source": [
        "np.sqrt(MSE)"
      ],
      "metadata": {
        "colab": {
          "base_uri": "https://localhost:8080/"
        },
        "id": "2ZHDA20V4vIB",
        "outputId": "fe33d115-81df-4996-8d81-6f16de3e63cb"
      },
      "execution_count": null,
      "outputs": [
        {
          "output_type": "execute_result",
          "data": {
            "text/plain": [
              "16.449960549765553"
            ]
          },
          "metadata": {},
          "execution_count": 29
        }
      ]
    }
  ]
}